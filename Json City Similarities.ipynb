{
 "cells": [
  {
   "cell_type": "code",
   "execution_count": 1,
   "metadata": {},
   "outputs": [],
   "source": [
    "import pandas as pd\n",
    "import numpy as np\n",
    "import seaborn as sns\n",
    "import matplotlib.pyplot as plt\n",
    "import json\n",
    "from datetime import datetime"
   ]
  },
  {
   "cell_type": "markdown",
   "metadata": {},
   "source": [
    "# Data Preprocessing"
   ]
  },
  {
   "cell_type": "code",
   "execution_count": 15,
   "metadata": {},
   "outputs": [],
   "source": [
    "data = {}\n",
    "with open('city_search.json', 'r') as f:\n",
    "    js = json.load(f)\n",
    "    session_id,unix_timestamp,cities = [],[],[]\n",
    "    user_id,joining_date,country = [],[],[]\n",
    "    for row in js:\n",
    "        session_id.append(row['session_id'][0]) \n",
    "        unix_timestamp.append(row['unix_timestamp'][0]) \n",
    "        cities.append(row['cities'][0]) \n",
    "        user_id.append(row['user'][0][0]['user_id']) \n",
    "        joining_date.append(row['user'][0][0]['joining_date']) \n",
    "        country.append(row['user'][0][0]['country']) \n",
    "        \n",
    "data['session_id'] = session_id\n",
    "data['unix_timestamp'] = unix_timestamp\n",
    "data['cities'] = cities\n",
    "data['user_id'] = user_id\n",
    "data['joining_date'] = joining_date\n",
    "data['country'] = country\n",
    "\n",
    "df = pd.DataFrame(data)"
   ]
  },
  {
   "cell_type": "code",
   "execution_count": 21,
   "metadata": {},
   "outputs": [],
   "source": [
    "df['unix_timestamp'] = df['unix_timestamp'].apply(lambda x: datetime.fromtimestamp(x))\n",
    "df['hour'] = df['unix_timestamp'].apply(lambda x: x.hour)\n",
    "df['country'] = df['country'].apply(lambda x: \"Unknown\" if x == \"\" else x)"
   ]
  },
  {
   "cell_type": "code",
   "execution_count": 26,
   "metadata": {},
   "outputs": [
    {
     "name": "stdout",
     "output_type": "stream",
     "text": [
      "<class 'pandas.core.frame.DataFrame'>\n",
      "RangeIndex: 20022 entries, 0 to 20021\n",
      "Data columns (total 7 columns):\n",
      " #   Column          Non-Null Count  Dtype         \n",
      "---  ------          --------------  -----         \n",
      " 0   session_id      20022 non-null  object        \n",
      " 1   unix_timestamp  20022 non-null  datetime64[ns]\n",
      " 2   cities          20022 non-null  object        \n",
      " 3   user_id         20022 non-null  int64         \n",
      " 4   joining_date    20022 non-null  object        \n",
      " 5   country         20022 non-null  object        \n",
      " 6   hour            20022 non-null  int64         \n",
      "dtypes: datetime64[ns](1), int64(2), object(4)\n",
      "memory usage: 1.1+ MB\n"
     ]
    }
   ],
   "source": [
    "df.info()"
   ]
  },
  {
   "cell_type": "code",
   "execution_count": 32,
   "metadata": {},
   "outputs": [
    {
     "data": {
      "text/html": [
       "<div>\n",
       "<style scoped>\n",
       "    .dataframe tbody tr th:only-of-type {\n",
       "        vertical-align: middle;\n",
       "    }\n",
       "\n",
       "    .dataframe tbody tr th {\n",
       "        vertical-align: top;\n",
       "    }\n",
       "\n",
       "    .dataframe thead th {\n",
       "        text-align: right;\n",
       "    }\n",
       "</style>\n",
       "<table border=\"1\" class=\"dataframe\">\n",
       "  <thead>\n",
       "    <tr style=\"text-align: right;\">\n",
       "      <th></th>\n",
       "      <th>session_id</th>\n",
       "      <th>unix_timestamp</th>\n",
       "      <th>cities</th>\n",
       "      <th>user_id</th>\n",
       "      <th>joining_date</th>\n",
       "      <th>country</th>\n",
       "      <th>hour</th>\n",
       "    </tr>\n",
       "  </thead>\n",
       "  <tbody>\n",
       "    <tr>\n",
       "      <th>6</th>\n",
       "      <td>YOVUIM79SGS5Y</td>\n",
       "      <td>2015-09-25 17:04:47</td>\n",
       "      <td>Montreal QC, Chicago IL</td>\n",
       "      <td>8831</td>\n",
       "      <td>2015-03-02</td>\n",
       "      <td>Unknown</td>\n",
       "      <td>17</td>\n",
       "    </tr>\n",
       "    <tr>\n",
       "      <th>7</th>\n",
       "      <td>SHXEY67QWKP9K</td>\n",
       "      <td>2015-05-16 16:48:24</td>\n",
       "      <td>Calgary AB, New York NY</td>\n",
       "      <td>587</td>\n",
       "      <td>2015-03-16</td>\n",
       "      <td>Unknown</td>\n",
       "      <td>16</td>\n",
       "    </tr>\n",
       "    <tr>\n",
       "      <th>9</th>\n",
       "      <td>UY49RTVRX3GL7</td>\n",
       "      <td>2015-08-09 15:17:47</td>\n",
       "      <td>New York NY</td>\n",
       "      <td>5995</td>\n",
       "      <td>2015-03-21</td>\n",
       "      <td>Unknown</td>\n",
       "      <td>15</td>\n",
       "    </tr>\n",
       "    <tr>\n",
       "      <th>19</th>\n",
       "      <td>YQAEPPG214CNU</td>\n",
       "      <td>2015-08-16 16:29:20</td>\n",
       "      <td>Toronto ON, New York NY</td>\n",
       "      <td>957</td>\n",
       "      <td>2015-03-30</td>\n",
       "      <td>Unknown</td>\n",
       "      <td>16</td>\n",
       "    </tr>\n",
       "    <tr>\n",
       "      <th>37</th>\n",
       "      <td>51H4C2DEYXG5D</td>\n",
       "      <td>2015-07-09 20:24:54</td>\n",
       "      <td>New York NY</td>\n",
       "      <td>5433</td>\n",
       "      <td>2015-03-05</td>\n",
       "      <td>Unknown</td>\n",
       "      <td>20</td>\n",
       "    </tr>\n",
       "  </tbody>\n",
       "</table>\n",
       "</div>"
      ],
      "text/plain": [
       "       session_id      unix_timestamp                   cities  user_id  \\\n",
       "6   YOVUIM79SGS5Y 2015-09-25 17:04:47  Montreal QC, Chicago IL     8831   \n",
       "7   SHXEY67QWKP9K 2015-05-16 16:48:24  Calgary AB, New York NY      587   \n",
       "9   UY49RTVRX3GL7 2015-08-09 15:17:47              New York NY     5995   \n",
       "19  YQAEPPG214CNU 2015-08-16 16:29:20  Toronto ON, New York NY      957   \n",
       "37  51H4C2DEYXG5D 2015-07-09 20:24:54              New York NY     5433   \n",
       "\n",
       "   joining_date  country  hour  \n",
       "6    2015-03-02  Unknown    17  \n",
       "7    2015-03-16  Unknown    16  \n",
       "9    2015-03-21  Unknown    15  \n",
       "19   2015-03-30  Unknown    16  \n",
       "37   2015-03-05  Unknown    20  "
      ]
     },
     "execution_count": 32,
     "metadata": {},
     "output_type": "execute_result"
    }
   ],
   "source": [
    "df[df.country == \"Unknown\"].head()"
   ]
  },
  {
   "cell_type": "markdown",
   "metadata": {},
   "source": [
    "**One starting point to guess where is the missing country might be the time zone, since most people are active during the daytime and the distribution of the hour of the timestamp should fall under a bell shape.**"
   ]
  },
  {
   "cell_type": "code",
   "execution_count": 82,
   "metadata": {},
   "outputs": [
    {
     "data": {
      "image/png": "[encoded data removed]",
      "text/plain": [
       "<Figure size 1080x1800 with 7 Axes>"
      ]
     },
     "metadata": {
      "needs_background": "light"
     },
     "output_type": "display_data"
    }
   ],
   "source": [
    "countries = df.country.unique()\n",
    "fig, ax = plt.subplots(nrows=len(countries), figsize=(15, 25), sharey=True)\n",
    "ax[0].set_title('Distribution of User Activity by Hour of the Day')\n",
    "\n",
    "for i, c in enumerate(countries):\n",
    "    piece = df[df.country==c]\n",
    "    sns.histplot(data=piece, x='hour', ax=ax[i], color='steelblue')\n",
    "    ax[i].set_xlabel(c)\n",
    "    ax[i].set_xticks(range(24))"
   ]
  },
  {
   "cell_type": "markdown",
   "metadata": {},
   "source": [
    "**Unsurprisingly, UK,FR,DE,IT and ES has a similar distribution while US and the missing one behaved differently. Therefore, the missing country is probably not in European or American continent. Based on the time differneces, the missing country is very likely to be located in the east Asia, China, Japan or South Korea is probably the missing one.**"
   ]
  },
  {
   "cell_type": "markdown",
   "metadata": {},
   "source": [
    "# Analysis"
   ]
  },
  {
   "cell_type": "markdown",
   "metadata": {},
   "source": [
    "## Cities that were often searched together"
   ]
  },
  {
   "cell_type": "code",
   "execution_count": 98,
   "metadata": {},
   "outputs": [],
   "source": [
    "city_list = []\n",
    "\n",
    "for x in df['cities'].unique():\n",
    "    city_list.extend(x.split(','))\n",
    "    \n",
    "city_list = np.unique([x.strip() for x in city_list])"
   ]
  },
  {
   "cell_type": "code",
   "execution_count": 123,
   "metadata": {},
   "outputs": [],
   "source": [
    "similar_cities = pd.DataFrame(index=city_list, columns=city_list, data=0)\n",
    "\n",
    "for c in city_list:\n",
    "    for i in city_list:\n",
    "        similar_cities.loc[c, i] = df['cities'].apply(lambda x: 1 if c in x and i in x else 0).sum()"
   ]
  },
  {
   "cell_type": "code",
   "execution_count": 176,
   "metadata": {},
   "outputs": [],
   "source": [
    "def get_similar_city(x):\n",
    "    \n",
    "    city = x.name\n",
    "    top2 = x.sort_values(ascending=False).head(2)\n",
    "    \n",
    "    if top2.index[0] != city:\n",
    "        return top2.index[0]\n",
    "    else:\n",
    "        return top2.index[1]\n"
   ]
  },
  {
   "cell_type": "markdown",
   "metadata": {},
   "source": [
    "**According to the frequency of two cities that were searched together, below is the result of the similarities.**"
   ]
  },
  {
   "cell_type": "code",
   "execution_count": 179,
   "metadata": {},
   "outputs": [
    {
     "data": {
      "text/plain": [
       "Miami FL             Jacksonville FL\n",
       "Lincoln NE                Madison WI\n",
       "Halifax NS                 Quebec QC\n",
       "Greensboro NC            Montreal QC\n",
       "Omaha NE                  Madison WI\n",
       "Glendale AZ               Phoenix AZ\n",
       "Sacramento CA            San Jose CA\n",
       "London ON               Kitchener ON\n",
       "Hialeah FL           Jacksonville FL\n",
       "Raleigh NC             Chesapeake VA\n",
       "OTTAWA ON                Montreal QC\n",
       "Virginia Beach VA        New York NY\n",
       "Fort Worth TX              Dallas TX\n",
       "Jacksonville FL             Tampa FL\n",
       "Boston MA                New York NY\n",
       "Plano TX                   Dallas TX\n",
       "Anaheim CA            Los Angeles CA\n",
       "Norfolk VA               New York NY\n",
       "Houston TX               New York NY\n",
       "Oakland CA               San Jose CA\n",
       "dtype: object"
      ]
     },
     "execution_count": 179,
     "metadata": {},
     "output_type": "execute_result"
    }
   ],
   "source": [
    "similar_cities.apply(get_similar_city, axis=1).sample(20)"
   ]
  },
  {
   "cell_type": "markdown",
   "metadata": {},
   "source": [
    "## Segmenting users"
   ]
  },
  {
   "cell_type": "code",
   "execution_count": 231,
   "metadata": {},
   "outputs": [],
   "source": [
    "from geopy.geocoders import Nominatim\n",
    "from geopy.distance import distance\n",
    "geolocator = Nominatim(user_agent=\"your_app_name\")\n",
    "\n",
    "def get_trip_avg_distance(x):\n",
    "    \n",
    "    cities = [x.strip() for x in x.split(',')]\n",
    "    if len(cities) == 1:\n",
    "        distance_ = 0\n",
    "    else:\n",
    "        combos = list(combinations(cities, 2))\n",
    "        distances = []\n",
    "        for combo in combos:\n",
    "            try:\n",
    "                loc1 = geolocator.geocode(combo[0], country_codes='us|ca')[1]\n",
    "                loc2 = geolocator.geocode(combo[1], country_codes='us|ca')[1]\n",
    "            \n",
    "                distances.append(distance(loc1, loc2).km)\n",
    "            except:\n",
    "                print(combo)\n",
    "                distances.append(-1)\n",
    "            \n",
    "        distance_ = np.mean(distances)\n",
    "    \n",
    "    return distance_"
   ]
  },
  {
   "cell_type": "code",
   "execution_count": 238,
   "metadata": {},
   "outputs": [],
   "source": [
    "df['avg_trip_distance'] = df['cities'].apply(get_trip_avg_distance)"
   ]
  },
  {
   "cell_type": "code",
   "execution_count": 239,
   "metadata": {},
   "outputs": [
    {
     "data": {
      "text/html": [
       "<div>\n",
       "<style scoped>\n",
       "    .dataframe tbody tr th:only-of-type {\n",
       "        vertical-align: middle;\n",
       "    }\n",
       "\n",
       "    .dataframe tbody tr th {\n",
       "        vertical-align: top;\n",
       "    }\n",
       "\n",
       "    .dataframe thead th {\n",
       "        text-align: right;\n",
       "    }\n",
       "</style>\n",
       "<table border=\"1\" class=\"dataframe\">\n",
       "  <thead>\n",
       "    <tr style=\"text-align: right;\">\n",
       "      <th></th>\n",
       "      <th>session_id</th>\n",
       "      <th>unix_timestamp</th>\n",
       "      <th>cities</th>\n",
       "      <th>user_id</th>\n",
       "      <th>joining_date</th>\n",
       "      <th>country</th>\n",
       "      <th>hour</th>\n",
       "      <th>avg_trip_distance</th>\n",
       "    </tr>\n",
       "  </thead>\n",
       "  <tbody>\n",
       "    <tr>\n",
       "      <th>0</th>\n",
       "      <td>X061RFWB06K9V</td>\n",
       "      <td>2015-09-17 23:28:28</td>\n",
       "      <td>New York NY, Newark NJ</td>\n",
       "      <td>2024</td>\n",
       "      <td>2015-03-22</td>\n",
       "      <td>UK</td>\n",
       "      <td>23</td>\n",
       "      <td>14.282981</td>\n",
       "    </tr>\n",
       "    <tr>\n",
       "      <th>1</th>\n",
       "      <td>5AZ2X2A9BHH5U</td>\n",
       "      <td>2015-09-04 16:06:31</td>\n",
       "      <td>New York NY, Jersey City NJ, Philadelphia PA</td>\n",
       "      <td>2853</td>\n",
       "      <td>2015-03-28</td>\n",
       "      <td>DE</td>\n",
       "      <td>16</td>\n",
       "      <td>86.946113</td>\n",
       "    </tr>\n",
       "    <tr>\n",
       "      <th>2</th>\n",
       "      <td>SHTB4IYAX4PX6</td>\n",
       "      <td>2015-08-29 18:18:10</td>\n",
       "      <td>San Antonio TX</td>\n",
       "      <td>10958</td>\n",
       "      <td>2015-03-06</td>\n",
       "      <td>UK</td>\n",
       "      <td>18</td>\n",
       "      <td>0.000000</td>\n",
       "    </tr>\n",
       "    <tr>\n",
       "      <th>3</th>\n",
       "      <td>JBRB8MZGTX3M4</td>\n",
       "      <td>2015-03-25 15:21:03</td>\n",
       "      <td>Edmonton AB</td>\n",
       "      <td>7693</td>\n",
       "      <td>2015-03-12</td>\n",
       "      <td>IT</td>\n",
       "      <td>15</td>\n",
       "      <td>0.000000</td>\n",
       "    </tr>\n",
       "    <tr>\n",
       "      <th>4</th>\n",
       "      <td>YJCMPURC2FL9C</td>\n",
       "      <td>2015-05-02 17:31:07</td>\n",
       "      <td>Phoenix AZ, Houston TX</td>\n",
       "      <td>7506</td>\n",
       "      <td>2015-02-28</td>\n",
       "      <td>UK</td>\n",
       "      <td>17</td>\n",
       "      <td>1635.256569</td>\n",
       "    </tr>\n",
       "  </tbody>\n",
       "</table>\n",
       "</div>"
      ],
      "text/plain": [
       "      session_id      unix_timestamp  \\\n",
       "0  X061RFWB06K9V 2015-09-17 23:28:28   \n",
       "1  5AZ2X2A9BHH5U 2015-09-04 16:06:31   \n",
       "2  SHTB4IYAX4PX6 2015-08-29 18:18:10   \n",
       "3  JBRB8MZGTX3M4 2015-03-25 15:21:03   \n",
       "4  YJCMPURC2FL9C 2015-05-02 17:31:07   \n",
       "\n",
       "                                         cities  user_id joining_date country  \\\n",
       "0                        New York NY, Newark NJ     2024   2015-03-22      UK   \n",
       "1  New York NY, Jersey City NJ, Philadelphia PA     2853   2015-03-28      DE   \n",
       "2                                San Antonio TX    10958   2015-03-06      UK   \n",
       "3                                   Edmonton AB     7693   2015-03-12      IT   \n",
       "4                        Phoenix AZ, Houston TX     7506   2015-02-28      UK   \n",
       "\n",
       "   hour  avg_trip_distance  \n",
       "0    23          14.282981  \n",
       "1    16          86.946113  \n",
       "2    18           0.000000  \n",
       "3    15           0.000000  \n",
       "4    17        1635.256569  "
      ]
     },
     "execution_count": 239,
     "metadata": {},
     "output_type": "execute_result"
    }
   ],
   "source": [
    "df.head()"
   ]
  },
  {
   "cell_type": "markdown",
   "metadata": {},
   "source": [
    "**Assume that travlers visit cities that are within 1 hour of flight, which typically falls under the distance range of 300 to 500km. Therefore, setting 500km as a threshold might be a good way to saparate intentions.**"
   ]
  },
  {
   "cell_type": "code",
   "execution_count": 251,
   "metadata": {},
   "outputs": [],
   "source": [
    "df['intention'] = df['avg_trip_distance'].apply(lambda x: \"High Intent\" if x <= 500 else \"Low Intent\")"
   ]
  },
  {
   "cell_type": "code",
   "execution_count": 261,
   "metadata": {},
   "outputs": [
    {
     "data": {
      "image/png": "[encoded data removed]",
      "text/plain": [
       "<Figure size 1080x576 with 1 Axes>"
      ]
     },
     "metadata": {
      "needs_background": "light"
     },
     "output_type": "display_data"
    }
   ],
   "source": [
    "fig, ax = plt.subplots(figsize=(15, 8))\n",
    "\n",
    "sns.histplot(df.loc[(df['intention']=='High Intent')&(df['avg_trip_distance']!=0), 'avg_trip_distance'])\n",
    "plt.title(\"Distribution for Average Distance of High Intention Users\", fontsize=20);"
   ]
  }
 ],
 "metadata": {
  "kernelspec": {
   "display_name": "Python 3",
   "language": "python",
   "name": "python3"
  },
  "language_info": {
   "codemirror_mode": {
    "name": "ipython",
    "version": 3
   },
   "file_extension": ".py",
   "mimetype": "text/x-python",
   "name": "python",
   "nbconvert_exporter": "python",
   "pygments_lexer": "ipython3",
   "version": "3.7.3"
  },
  "toc": {
   "base_numbering": 1,
   "nav_menu": {},
   "number_sections": true,
   "sideBar": true,
   "skip_h1_title": false,
   "title_cell": "Table of Contents",
   "title_sidebar": "Contents",
   "toc_cell": false,
   "toc_position": {},
   "toc_section_display": true,
   "toc_window_display": false
  },
  "varInspector": {
   "cols": {
    "lenName": 16,
    "lenType": 16,
    "lenVar": 40
   },
   "kernels_config": {
    "python": {
     "delete_cmd_postfix": "",
     "delete_cmd_prefix": "del ",
     "library": "var_list.py",
     "varRefreshCmd": "print(var_dic_list())"
    },
    "r": {
     "delete_cmd_postfix": ") ",
     "delete_cmd_prefix": "rm(",
     "library": "var_list.r",
     "varRefreshCmd": "cat(var_dic_list()) "
    }
   },
   "types_to_exclude": [
    "module",
    "function",
    "builtin_function_or_method",
    "instance",
    "_Feature"
   ],
   "window_display": false
  }
 },
 "nbformat": 4,
 "nbformat_minor": 2
}
